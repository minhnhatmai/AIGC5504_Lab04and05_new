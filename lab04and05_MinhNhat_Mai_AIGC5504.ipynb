{
 "cells": [
  {
   "cell_type": "code",
   "execution_count": null,
   "id": "91b8676a",
   "metadata": {},
   "outputs": [],
   "source": [
    "import tensorflow as tf\n",
    "import tensorflow_datasets as tfds\n",
    "import numpy as np\n",
    "import matplotlib.pyplot as plt\n",
    "\n",
    "%matplotlib inline"
   ]
  },
  {
   "cell_type": "code",
   "execution_count": null,
   "id": "db6fcdc3",
   "metadata": {},
   "outputs": [],
   "source": [
    "import tensorflow as tf\n",
    "\n",
    "# List physical devices\n",
    "gpus = tf.config.list_physical_devices('GPU')\n",
    "if gpus:\n",
    "    print(\"🚀 GPU(s) detected!\")\n",
    "    for gpu in gpus:\n",
    "        print(f\" - {gpu}\")\n",
    "    print(\"TensorFlow will use the GPU by default when available.\")\n",
    "else:\n",
    "    print(\"⚠️ No GPU detected. Using CPU only.\")"
   ]
  },
  {
   "cell_type": "code",
   "execution_count": null,
   "id": "36280268",
   "metadata": {},
   "outputs": [],
   "source": [
    "IMG_SIZE = 32\n",
    "BATCH_SIZE = 64\n",
    "BUFFER_SIZE = 10000\n",
    "\n",
    "def preprocess(image, label):\n",
    "    # Crop to center square (CelebA is 178x218, crop to 140x140)\n",
    "    image = tf.image.crop_to_bounding_box(image, 40, 15, 140, 140)\n",
    "    image = tf.image.resize(image, [IMG_SIZE, IMG_SIZE])\n",
    "    image = tf.cast(image, tf.float32) / 127.5 - 1.0  # Scale to [-1, 1]\n",
    "    return image\n",
    "\n",
    "# Download CelebA\n",
    "dataset = tfds.load('celeb_a', split='train', shuffle_files=True)\n",
    "dataset = dataset.map(lambda x: preprocess(x['image'], x['attributes']))\n",
    "dataset = dataset.shuffle(BUFFER_SIZE).batch(BATCH_SIZE).prefetch(tf.data.AUTOTUNE)\n"
   ]
  },
  {
   "cell_type": "code",
   "execution_count": null,
   "id": "c16525a5",
   "metadata": {},
   "outputs": [],
   "source": [
    "import tensorflow_datasets as tfds\n",
    "import matplotlib.pyplot as plt\n",
    "\n",
    "ds = tfds.load('celeb_a', split='train', shuffle_files=True)\n",
    "for sample in ds.take(1):\n",
    "    img = sample['image']\n",
    "    plt.imshow(img)\n",
    "    plt.axis('off')\n",
    "    plt.title('CelebA Sample Image')\n",
    "    plt.show()"
   ]
  },
  {
   "cell_type": "code",
   "execution_count": null,
   "id": "a5dee00a",
   "metadata": {},
   "outputs": [],
   "source": [
    "# Generator\n",
    "def make_generator_model():\n",
    "    model = tf.keras.Sequential([\n",
    "        tf.keras.layers.Dense(4*4*256, use_bias=False, input_shape=(100,)),\n",
    "        tf.keras.layers.BatchNormalization(),\n",
    "        tf.keras.layers.LeakyReLU(),\n",
    "        tf.keras.layers.Reshape((4, 4, 256)),\n",
    "        tf.keras.layers.Conv2DTranspose(256, (5,5), strides=(2,2), padding='same', use_bias=False),\n",
    "        tf.keras.layers.BatchNormalization(),\n",
    "        tf.keras.layers.LeakyReLU(),\n",
    "        tf.keras.layers.Conv2DTranspose(128, (5,5), strides=(2,2), padding='same', use_bias=False),\n",
    "        tf.keras.layers.BatchNormalization(),\n",
    "        tf.keras.layers.LeakyReLU(),\n",
    "        tf.keras.layers.Conv2DTranspose(3, (5,5), strides=(2,2), padding='same', use_bias=False, activation='tanh')\n",
    "    ])\n",
    "    return model\n",
    "\n",
    "# Discriminator\n",
    "def make_discriminator_model():\n",
    "    model = tf.keras.Sequential([\n",
    "        tf.keras.layers.Conv2D(64, (5,5), strides=(2,2), padding='same', input_shape=[32, 32, 3]),\n",
    "        tf.keras.layers.LeakyReLU(),\n",
    "        tf.keras.layers.Dropout(0.3),\n",
    "        tf.keras.layers.Conv2D(128, (5,5), strides=(2,2), padding='same'),\n",
    "        tf.keras.layers.LeakyReLU(),\n",
    "        tf.keras.layers.Dropout(0.3),\n",
    "        tf.keras.layers.Flatten(),\n",
    "        tf.keras.layers.Dense(1)\n",
    "    ])\n",
    "    return model\n",
    "\n",
    "generator = make_generator_model()\n",
    "discriminator = make_discriminator_model()\n"
   ]
  },
  {
   "cell_type": "code",
   "execution_count": null,
   "id": "72cbc967",
   "metadata": {},
   "outputs": [],
   "source": [
    "generator.summary()"
   ]
  },
  {
   "cell_type": "code",
   "execution_count": null,
   "id": "44cf8e93",
   "metadata": {},
   "outputs": [],
   "source": [
    "discriminator.summary()"
   ]
  },
  {
   "cell_type": "code",
   "execution_count": null,
   "id": "36e7cc5f",
   "metadata": {},
   "outputs": [],
   "source": [
    "cross_entropy = tf.keras.losses.BinaryCrossentropy(from_logits=True)\n",
    "\n",
    "def discriminator_loss(real_output, fake_output):\n",
    "    real_loss = cross_entropy(tf.ones_like(real_output), real_output)\n",
    "    fake_loss = cross_entropy(tf.zeros_like(fake_output), fake_output)\n",
    "    return real_loss + fake_loss\n",
    "\n",
    "def generator_loss(fake_output):\n",
    "    return cross_entropy(tf.ones_like(fake_output), fake_output)\n",
    "\n",
    "generator_optimizer = tf.keras.optimizers.Adam(learning_rate=2e-4, beta_1=0.0, beta_2=0.9)\n",
    "discriminator_optimizer = tf.keras.optimizers.Adam(learning_rate=2e-4, beta_1=0.0, beta_2=0.9)\n"
   ]
  },
  {
   "cell_type": "code",
   "execution_count": null,
   "id": "df262e19",
   "metadata": {},
   "outputs": [],
   "source": [
    "EPOCHS = 25\n",
    "NOISE_DIM = 100\n",
    "NUM_EXAMPLES_TO_GENERATE = 16\n",
    "seed = tf.random.normal([NUM_EXAMPLES_TO_GENERATE, NOISE_DIM])\n",
    "\n",
    "gen_losses = []\n",
    "disc_losses = []\n",
    "\n",
    "@tf.function\n",
    "def train_step(images):\n",
    "    noise = tf.random.normal([BATCH_SIZE, NOISE_DIM])\n",
    "    with tf.GradientTape() as gen_tape, tf.GradientTape() as disc_tape:\n",
    "        generated_images = generator(noise, training=True)\n",
    "        real_output = discriminator(images, training=True)\n",
    "        fake_output = discriminator(generated_images, training=True)\n",
    "        gen_loss = generator_loss(fake_output)\n",
    "        disc_loss = discriminator_loss(real_output, fake_output)\n",
    "    gradients_of_generator = gen_tape.gradient(gen_loss, generator.trainable_variables)\n",
    "    gradients_of_discriminator = disc_tape.gradient(disc_loss, discriminator.trainable_variables)\n",
    "    generator_optimizer.apply_gradients(zip(gradients_of_generator, generator.trainable_variables))\n",
    "    discriminator_optimizer.apply_gradients(zip(gradients_of_discriminator, discriminator.trainable_variables))\n",
    "    return gen_loss, disc_loss  # Return losses\n",
    "\n",
    "def train(dataset, epochs):\n",
    "    for epoch in range(epochs):\n",
    "        for image_batch in dataset:\n",
    "            train_step(image_batch)\n",
    "        generate_and_show_images(generator, epoch+1, seed)\n",
    "\n",
    "def generate_and_show_images(model, epoch, test_input):\n",
    "    predictions = model(test_input, training=False)\n",
    "    fig = plt.figure(figsize=(4,4))\n",
    "    for i in range(predictions.shape[0]):\n",
    "        plt.subplot(4, 4, i+1)\n",
    "        plt.imshow((predictions[i] * 127.5 + 127.5).numpy().astype(np.uint8))\n",
    "        plt.axis('off')\n",
    "    plt.suptitle(f'Epoch {epoch}')\n",
    "    plt.show()"
   ]
  },
  {
   "cell_type": "code",
   "execution_count": null,
   "id": "897ae92d",
   "metadata": {},
   "outputs": [],
   "source": [
    "train(dataset, EPOCHS)"
   ]
  },
  {
   "cell_type": "code",
   "execution_count": null,
   "id": "891cdc69",
   "metadata": {},
   "outputs": [],
   "source": [
    "# After training, plot the losses\n",
    "plt.figure(figsize=(8,5))\n",
    "plt.plot(gen_losses, label='Generator Loss')\n",
    "plt.plot(disc_losses, label='Discriminator Loss')\n",
    "plt.xlabel('Epoch')\n",
    "plt.ylabel('Loss')\n",
    "plt.title('Training Losses')\n",
    "plt.legend()\n",
    "plt.show()"
   ]
  },
  {
   "cell_type": "code",
   "execution_count": null,
   "id": "e289af02",
   "metadata": {},
   "outputs": [],
   "source": [
    "from sklearn.decomposition import PCA\n",
    "\n",
    "# Get a batch of real images (first 100 images from your dataset)\n",
    "real_images = next(iter(dataset))\n",
    "if isinstance(real_images, tuple):  # If dataset returns (image, label)\n",
    "    real_images = real_images[0]\n",
    "real_images = real_images[:100].numpy().reshape(100, -1)  # Flatten\n",
    "\n",
    "# Generate a batch of fake images\n",
    "noise = tf.random.normal([100, NOISE_DIM])\n",
    "generated_images = generator(noise, training=False).numpy().reshape(100, -1)\n",
    "\n",
    "# Use PCA to reduce to 2D\n",
    "pca = PCA(n_components=2)\n",
    "all_images = np.concatenate([real_images, generated_images], axis=0)\n",
    "pca_result = pca.fit_transform(all_images)\n",
    "real_pca = pca_result[:100]\n",
    "gen_pca = pca_result[100:]\n",
    "\n",
    "plt.figure(figsize=(8,6))\n",
    "plt.scatter(real_pca[:,0], real_pca[:,1], alpha=0.5, label='Real', c='blue')\n",
    "plt.scatter(gen_pca[:,0], gen_pca[:,1], alpha=0.5, label='Generated', c='red')\n",
    "plt.legend()\n",
    "plt.title('PCA: Real vs Generated Image Distribution')\n",
    "plt.xlabel('PC 1')\n",
    "plt.ylabel('PC 2')\n",
    "plt.show()"
   ]
  }
 ],
 "metadata": {
  "kernelspec": {
   "display_name": ".venv",
   "language": "python",
   "name": "python3"
  },
  "language_info": {
   "codemirror_mode": {
    "name": "ipython",
    "version": 3
   },
   "file_extension": ".py",
   "mimetype": "text/x-python",
   "name": "python",
   "nbconvert_exporter": "python",
   "pygments_lexer": "ipython3",
   "version": "3.12.3"
  }
 },
 "nbformat": 4,
 "nbformat_minor": 5
}
